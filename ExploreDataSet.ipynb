{
 "cells": [
  {
   "cell_type": "code",
   "execution_count": null,
   "id": "6ae6a9ee",
   "metadata": {},
   "outputs": [],
   "source": [
    "import pandas as pd\n",
    "import numpy as np\n",
    "pd.set_option(\"display.max_columns\", None)\n",
    "pd.set_option(\"display.max_rows\", None)"
   ]
  },
  {
   "cell_type": "code",
   "execution_count": null,
   "id": "a3283b1d",
   "metadata": {},
   "outputs": [],
   "source": [
    "df1 = pd.read_excel(\"CANIS_PRC_state_media_on_social_media_platforms-2023-11-03.xlsx\")"
   ]
  },
  {
   "cell_type": "code",
   "execution_count": null,
   "id": "068a90b3",
   "metadata": {},
   "outputs": [],
   "source": [
    "df1.head()"
   ]
  },
  {
   "cell_type": "code",
   "execution_count": null,
   "id": "b335ecde",
   "metadata": {},
   "outputs": [],
   "source": [
    "# drop Chinese columns\n",
    "df1.drop(columns=[\"Name (Chinese)\",\"Entity owner (Chinese)\",\"Parent entity (Chinese)\"], inplace=True)"
   ]
  },
  {
   "cell_type": "code",
   "execution_count": null,
   "id": "02e7391c",
   "metadata": {},
   "outputs": [],
   "source": [
    "len(df1[df1[\"Language\"] == \"English\"])"
   ]
  },
  {
   "cell_type": "code",
   "execution_count": null,
   "id": "4f049976",
   "metadata": {},
   "outputs": [],
   "source": []
  },
  {
   "cell_type": "markdown",
   "id": "f89f7930",
   "metadata": {},
   "source": [
    "### Dealing with Counts of Unique items per Column interested ###"
   ]
  },
  {
   "cell_type": "code",
   "execution_count": null,
   "id": "62e35deb",
   "metadata": {},
   "outputs": [],
   "source": [
    "mask1 = df1[\"Region of Focus\"] == \"Anglosphere\"\n",
    "mask2 = df1[\"Language\"] == \"English\"\n",
    "#df1[mask2][\"Region of Focus\"].value_counts()"
   ]
  },
  {
   "cell_type": "code",
   "execution_count": null,
   "id": "5ddd4151",
   "metadata": {},
   "outputs": [],
   "source": [
    "df2 = df1[\"Region of Focus\"].value_counts().to_frame().reset_index()\n",
    "df3 = df1[\"Language\"].value_counts().to_frame().reset_index()\n",
    "df4 = df1[\"Entity owner (English)\"].value_counts().to_frame().reset_index()\n",
    "df5 = df1[\"Parent entity (English)\"].value_counts().to_frame().reset_index()\n",
    "df_All = pd.concat([df2,df3,df4,df5], axis=1)\n",
    "#df_All"
   ]
  },
  {
   "cell_type": "code",
   "execution_count": null,
   "id": "4f68fe07",
   "metadata": {},
   "outputs": [],
   "source": [
    "df_All['count'] = df_All['count'].astype('Int64')\n",
    "df_All"
   ]
  },
  {
   "cell_type": "code",
   "execution_count": null,
   "id": "0d224ee2",
   "metadata": {},
   "outputs": [],
   "source": [
    "df_All.to_csv(\"value_counts.csv\", index=False)"
   ]
  },
  {
   "cell_type": "code",
   "execution_count": null,
   "id": "a752d853",
   "metadata": {},
   "outputs": [],
   "source": []
  },
  {
   "cell_type": "markdown",
   "id": "0aa8f660",
   "metadata": {},
   "source": [
    "### Dealing with Twitter Follower Numbers ###"
   ]
  },
  {
   "cell_type": "code",
   "execution_count": null,
   "id": "c27dcdfd",
   "metadata": {},
   "outputs": [],
   "source": [
    "df_Twitter = df1.sort_values(by=\"X (Twitter) Follower #\", ascending=False)\n",
    "df_Twitter.head()"
   ]
  },
  {
   "cell_type": "code",
   "execution_count": null,
   "id": "f5dad858",
   "metadata": {},
   "outputs": [],
   "source": [
    "df6 = df_Twitter.iloc[:, [0,2,3,4,6,8,9,10]]\n",
    "maskNA = df6[\"X (Twitter) Follower #\"].isnull()\n",
    "df6 = df6[~maskNA] \n",
    "df6.head()"
   ]
  },
  {
   "cell_type": "code",
   "execution_count": null,
   "id": "98a228ba",
   "metadata": {},
   "outputs": [],
   "source": [
    "df6.to_csv(\"dataset_Twitter.csv\", encoding='utf-8-sig', index=False)"
   ]
  },
  {
   "cell_type": "code",
   "execution_count": null,
   "id": "9f9fa1f4",
   "metadata": {},
   "outputs": [],
   "source": []
  },
  {
   "cell_type": "markdown",
   "id": "8cbe06c7",
   "metadata": {},
   "source": [
    "### Dealing with Facebook Numbers ###"
   ]
  },
  {
   "cell_type": "code",
   "execution_count": null,
   "id": "abd7bc9c",
   "metadata": {},
   "outputs": [],
   "source": [
    "df_FB = df1.sort_values(by=\"Facebook Follower #\", ascending=False)\n",
    "#df_FB.columns = [f\"{i}_{col}\" for i, col in enumerate(df_FB.columns)]\n",
    "#df_FB.head()"
   ]
  },
  {
   "cell_type": "code",
   "execution_count": null,
   "id": "6b3d7725",
   "metadata": {
    "scrolled": true
   },
   "outputs": [],
   "source": [
    "df7 = df_FB.iloc[:, [0,2,3,4,6,11,12,13]]\n",
    "maskNA = df7[\"Facebook Follower #\"].isnull()\n",
    "df7 = df7[~maskNA] \n",
    "df7.head()"
   ]
  },
  {
   "cell_type": "code",
   "execution_count": null,
   "id": "f9ea706f",
   "metadata": {},
   "outputs": [],
   "source": [
    "df7.to_csv(\"dataset_FB.csv\", index=False)"
   ]
  },
  {
   "cell_type": "code",
   "execution_count": null,
   "id": "25f0cd9a",
   "metadata": {},
   "outputs": [],
   "source": []
  },
  {
   "cell_type": "markdown",
   "id": "e0b6ea77",
   "metadata": {},
   "source": [
    "### Dealing with Instagram, Threads Data ###"
   ]
  },
  {
   "cell_type": "code",
   "execution_count": null,
   "id": "31a48a54",
   "metadata": {},
   "outputs": [],
   "source": [
    "df_Instagram = df1.sort_values(by=\"Instagram Follower #\", ascending=False)\n",
    "df8 = df_Instagram.iloc[:, [0,2,3,4,6,14,15,16]]\n",
    "maskNA = df8[\"Instagram Follower #\"].isnull()\n",
    "df8 = df8[~maskNA] \n",
    "\n",
    "df_Thread = df1.sort_values(by=\"Threads Follower #\", ascending=False)\n",
    "df9 = df_Thread.iloc[:, [0,2,3,4,6,17,18,19]]\n",
    "maskNA = df9[\"Threads Follower #\"].isnull()\n",
    "df9 = df9[~maskNA] "
   ]
  },
  {
   "cell_type": "code",
   "execution_count": null,
   "id": "44e3b8e1",
   "metadata": {},
   "outputs": [],
   "source": [
    "df8.to_csv(\"dataset_Instagram.csv\", index=False)\n",
    "df9.to_csv(\"dataset_Threads.csv\", index=False)"
   ]
  },
  {
   "cell_type": "code",
   "execution_count": null,
   "id": "6f84cc11",
   "metadata": {},
   "outputs": [],
   "source": []
  },
  {
   "cell_type": "markdown",
   "id": "740a7398",
   "metadata": {},
   "source": [
    "### Dealing with Youtube and TikTok Data ###"
   ]
  },
  {
   "cell_type": "code",
   "execution_count": null,
   "id": "dcce4f8a",
   "metadata": {},
   "outputs": [],
   "source": [
    "df_YouTube = df1.sort_values(by=\"YouTube Subscriber #\", ascending=False)\n",
    "df10 = df_YouTube.iloc[:, [0,2,3,4,6,20,21,22]]\n",
    "maskNA = df10[\"YouTube Subscriber #\"].isnull()\n",
    "df10 = df10[~maskNA] \n",
    "\n",
    "df_TikTok = df1.sort_values(by=\"TikTok Subscriber #\", ascending=False)\n",
    "df11 = df_TikTok.iloc[:, [0,2,3,4,6,23,24,25]]\n",
    "maskNA = df11[\"TikTok Subscriber #\"].isnull()\n",
    "df11 = df11[~maskNA] "
   ]
  },
  {
   "cell_type": "code",
   "execution_count": null,
   "id": "f9833121",
   "metadata": {},
   "outputs": [],
   "source": [
    "df10.to_csv(\"dataset_YouTube.csv\", index=False)\n",
    "df11.to_csv(\"dataset_TikTok.csv\", index=False)"
   ]
  },
  {
   "cell_type": "code",
   "execution_count": null,
   "id": "a8f1d383",
   "metadata": {},
   "outputs": [],
   "source": []
  }
 ],
 "metadata": {
  "kernelspec": {
   "display_name": "Python 3 (ipykernel)",
   "language": "python",
   "name": "python3"
  },
  "language_info": {
   "codemirror_mode": {
    "name": "ipython",
    "version": 3
   },
   "file_extension": ".py",
   "mimetype": "text/x-python",
   "name": "python",
   "nbconvert_exporter": "python",
   "pygments_lexer": "ipython3",
   "version": "3.9.13"
  }
 },
 "nbformat": 4,
 "nbformat_minor": 5
}
